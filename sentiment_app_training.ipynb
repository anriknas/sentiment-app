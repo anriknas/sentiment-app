{
  "nbformat": 4,
  "nbformat_minor": 0,
  "metadata": {
    "colab": {
      "name": "sentiment-app-training.ipynb",
      "provenance": [],
      "collapsed_sections": [],
      "authorship_tag": "ABX9TyOsAlrgbVPeK5m8RqpXUFMk",
      "include_colab_link": true
    },
    "kernelspec": {
      "name": "python3",
      "display_name": "Python 3"
    },
    "accelerator": "GPU"
  },
  "cells": [
    {
      "cell_type": "markdown",
      "metadata": {
        "id": "view-in-github",
        "colab_type": "text"
      },
      "source": [
        "<a href=\"https://colab.research.google.com/github/sankirnajoshi/sentiment-app/blob/master/sentiment_app_training.ipynb\" target=\"_parent\"><img src=\"https://colab.research.google.com/assets/colab-badge.svg\" alt=\"Open In Colab\"/></a>"
      ]
    },
    {
      "cell_type": "markdown",
      "metadata": {
        "id": "zpnxxaB_MAhs",
        "colab_type": "text"
      },
      "source": [
        "# Sentiment-app model\n",
        "This notebook is used to train the LSTM model for the sentiment app."
      ]
    },
    {
      "cell_type": "markdown",
      "metadata": {
        "id": "8Vc0BpuNctP3",
        "colab_type": "text"
      },
      "source": [
        "## Load Data"
      ]
    },
    {
      "cell_type": "code",
      "metadata": {
        "id": "FVk3fIa_icG3",
        "colab_type": "code",
        "outputId": "1c3c2837-b3fb-4186-83d8-eec7fdb65862",
        "colab": {
          "base_uri": "https://localhost:8080/",
          "height": 90
        }
      },
      "source": [
        "import urllib.request\n",
        "import sys\n",
        "import zipfile\n",
        "import pandas as pd\n",
        "from bs4 import BeautifulSoup\n",
        "import nltk\n",
        "#from nltk.corpus import  stopwords\n",
        "from nltk.tokenize import word_tokenize\n",
        "from nltk.stem import WordNetLemmatizer \n",
        "from os import path\n",
        "import numpy as np\n",
        "\n",
        "\n",
        "import warnings\n",
        "warnings.filterwarnings(\"ignore\")\n",
        "\n",
        "try:\n",
        "    nltk.data.find('tokenizers/punkt')\n",
        "except LookupError:\n",
        "    nltk.download('punkt')\n",
        "\n",
        "try:\n",
        "    nltk.data.find('corpora/wordnet')\n",
        "except:\n",
        "    nltk.download('wordnet')\n",
        "\n",
        "lemmatizer = WordNetLemmatizer()\n",
        "\n",
        "url = 'http://nlp.stanford.edu/~socherr/stanfordSentimentTreebank.zip'\n",
        "\n",
        "def download_url(url, save_path):\n",
        "    '''\n",
        "    Download the zip file from stanford website\n",
        "    '''\n",
        "    with urllib.request.urlopen(url) as dl_file:\n",
        "        with open(save_path, 'wb') as out_file:\n",
        "            out_file.write(dl_file.read())\n",
        "\n",
        "\n",
        "def dataset_preparation(filename, header=None):\n",
        "    '''\n",
        "    Extract the downloaded zip with the folder structure intact. \n",
        "    ##To Do - optimize the function to remove folder structure and download only the required files.\n",
        "    '''\n",
        "    data = pd.read_csv(filename, sep=\"|\", header=header)\n",
        "    return data    \n",
        "\n",
        "\n",
        "def target_map(target):\n",
        "    '''\n",
        "    Apply function to target to get ratings in \n",
        "    desired form. Ratings will be converted from \n",
        "    [0, 0.2], (0.2, 0.4], (0.4, 0.6], (0.6, 0.8], (0.8, 1.0]\n",
        "    to [0,1,2,3,4]. The new ratings are defined as :\n",
        "    0 - very negative\n",
        "    1 - somewhat negative\n",
        "    2 - neutral\n",
        "    3 - somewhat positive\n",
        "    4 - very positive\n",
        "    '''\n",
        "    if 0 <= target <= 0.2:\n",
        "        return 0\n",
        "    elif 0.2 < target <=0.4:\n",
        "        return 1\n",
        "    elif 0.4 < target <=0.6:\n",
        "        return 2\n",
        "    elif 0.6 < target <=0.8:\n",
        "        return 3\n",
        "    else:\n",
        "        return 4\n",
        "\n",
        "def clean_data(df, col):\n",
        "    ##Remove records without any words\n",
        "    #df[col] = pd.Series([BeautifulSoup(text).get_text() for text in df[col]])\n",
        "    df[col] = df[df[col].str.contains('[A-Za-z]')] #remove rows without any alphabets.\n",
        "    df[col] = df[col].str.replace('[^\\w\\s]','').str.lower().str.strip() #replace punctuations, remove case and strip whitespaces\n",
        "    df[col] = df[col].replace('', np.NaN)\n",
        "    df = df.drop_duplicates(subset=[col])\n",
        "    df = df.dropna(subset=[col])\n",
        "    df[col] = df[col].dropna()\n",
        "    df[col] = df[col].apply(lambda x: word_tokenize(x))\n",
        "    df[col] = df[col].apply(lambda x : [lemmatizer.lemmatize(item) for item in x])\n",
        "    return df\n",
        "\n",
        "if not path.exists('../data'):\n",
        "    download_url(url,'../data.zip')\n",
        "    with zipfile.ZipFile('../data.zip', 'r') as zip_ref:\n",
        "        zip_ref.extractall('../data/')"
      ],
      "execution_count": 0,
      "outputs": [
        {
          "output_type": "stream",
          "text": [
            "[nltk_data] Downloading package punkt to /root/nltk_data...\n",
            "[nltk_data]   Unzipping tokenizers/punkt.zip.\n",
            "[nltk_data] Downloading package wordnet to /root/nltk_data...\n",
            "[nltk_data]   Unzipping corpora/wordnet.zip.\n"
          ],
          "name": "stdout"
        }
      ]
    },
    {
      "cell_type": "code",
      "metadata": {
        "id": "7GgOdvu48KkD",
        "colab_type": "code",
        "colab": {}
      },
      "source": [
        "run = False\n",
        "if run:\n",
        "    dictionary = dataset_preparation('../data/stanfordSentimentTreebank/dictionary.txt')\n",
        "    dictionary.columns = ['phrase','phrase_id']\n",
        "\n",
        "    sentiment = dataset_preparation('../data/stanfordSentimentTreebank/sentiment_labels.txt', header=0)\n",
        "    sentiment.columns=['phrase_id','target']\n",
        "\n",
        "    data = pd.merge(dictionary, sentiment, how='inner',on='phrase_id')\n",
        "\n",
        "    data['target'] = data['target'].map(target_map)\n",
        "    df = clean_data(data, 'phrase')\n",
        "    df.to_pickle('../data/merged_cleaned_data.pkl')\n",
        "    del data, dictionary, sentiment;\n",
        "else:\n",
        "    df = pd.read_pickle('https://github.com/sankirnajoshi/sentiment-app/raw/master/model/merged_cleaned_data.pkl')"
      ],
      "execution_count": 0,
      "outputs": []
    },
    {
      "cell_type": "code",
      "metadata": {
        "id": "b2bcdRmJrqSI",
        "colab_type": "code",
        "colab": {}
      },
      "source": [
        "import numpy as np\n",
        "\n",
        "import tensorflow as tf\n",
        "from tensorflow import keras\n",
        "\n",
        "from tensorflow.keras.preprocessing import sequence\n",
        "from tensorflow.keras.preprocessing.text import Tokenizer\n",
        "\n",
        "from tensorflow.keras.utils import to_categorical\n",
        "\n",
        "from tensorflow.keras import Sequential\n",
        "from tensorflow.keras.layers import Dense,Dropout,Embedding,LSTM,Flatten,MaxPooling1D,Conv1D,Bidirectional\n",
        "\n",
        "from tensorflow.keras.callbacks import EarlyStopping\n",
        "from tensorflow.keras.losses import  categorical_crossentropy\n",
        "from tensorflow.keras.optimizers import Adam\n",
        "\n",
        "#set random seed for the session and also for tensorflow that runs in background for keras\n",
        "import random\n",
        "tf.random.set_seed(0)\n",
        "random.seed(0)"
      ],
      "execution_count": 0,
      "outputs": []
    },
    {
      "cell_type": "code",
      "metadata": {
        "id": "GYwiTfO9Zzih",
        "colab_type": "code",
        "colab": {}
      },
      "source": [
        "from sklearn.model_selection import train_test_split\n",
        "X = df.phrase\n",
        "y = df.target\n",
        "y = to_categorical(y) #one hot encode y\n",
        "\n",
        "X_train_val, X_test, y_train_val, y_test = train_test_split(X, y, test_size=0.2, random_state=0)\n",
        "X_train, X_val, y_train, y_val = train_test_split(X_train_val, y_train_val, test_size=0.25, random_state=0)\n",
        "\n",
        "del X_train_val, y_train_val;"
      ],
      "execution_count": 0,
      "outputs": []
    },
    {
      "cell_type": "code",
      "metadata": {
        "id": "HsnAg7oKZ44b",
        "colab_type": "code",
        "outputId": "6470bd67-ccb1-4821-e1bb-13a46eedfe02",
        "colab": {
          "base_uri": "https://localhost:8080/",
          "height": 35
        }
      },
      "source": [
        "unique_words = set(np.hstack(X_train))\n",
        "print(f'Unique words : {len(unique_words)}')"
      ],
      "execution_count": 0,
      "outputs": [
        {
          "output_type": "stream",
          "text": [
            "Unique words : 17873\n"
          ],
          "name": "stdout"
        }
      ]
    },
    {
      "cell_type": "code",
      "metadata": {
        "id": "2N-Se2a5fCp1",
        "colab_type": "code",
        "outputId": "08e9edd2-6e49-489c-ca45-0b51d058f591",
        "colab": {
          "base_uri": "https://localhost:8080/",
          "height": 304
        }
      },
      "source": [
        "import matplotlib.pyplot as plt\n",
        "# Summarize review length\n",
        "print(\"Mean length: \")\n",
        "result = [len(x) for x in X_train]\n",
        "print(f'{np.mean(result):.2f} +- {np.std(result):.2f} words')\n",
        "# plot review length\n",
        "plt.boxplot(result)\n",
        "plt.show();"
      ],
      "execution_count": 0,
      "outputs": [
        {
          "output_type": "stream",
          "text": [
            "Mean length: \n",
            "6.76 +- 6.42 words\n"
          ],
          "name": "stdout"
        },
        {
          "output_type": "display_data",
          "data": {
            "image/png": "[encoded data removed]",
            "text/plain": [
              "<Figure size 432x288 with 1 Axes>"
            ]
          },
          "metadata": {
            "tags": [],
            "needs_background": "light"
          }
        }
      ]
    },
    {
      "cell_type": "code",
      "metadata": {
        "id": "0PyLirNZgH2M",
        "colab_type": "code",
        "outputId": "c1a7524e-5870-46eb-b25d-98a4613e2807",
        "colab": {
          "base_uri": "https://localhost:8080/",
          "height": 299
        }
      },
      "source": [
        "MAX_LENGTH = max(map(len, X_train))\n",
        "print(\"max length:\", MAX_LENGTH)\n",
        "\n",
        "plt.title('Sequence length distribution')\n",
        "plt.hist(list(map(len, X_train)), bins=25);"
      ],
      "execution_count": 0,
      "outputs": [
        {
          "output_type": "stream",
          "text": [
            "max length: 48\n"
          ],
          "name": "stdout"
        },
        {
          "output_type": "display_data",
          "data": {
            "image/png": "[encoded data removed]",
            "text/plain": [
              "<Figure size 432x288 with 1 Axes>"
            ]
          },
          "metadata": {
            "tags": [],
            "needs_background": "light"
          }
        }
      ]
    },
    {
      "cell_type": "code",
      "metadata": {
        "id": "J5AWJ0x-mLw8",
        "colab_type": "code",
        "outputId": "6c380399-694b-41f4-f620-2223b0277d54",
        "colab": {
          "base_uri": "https://localhost:8080/",
          "height": 53
        }
      },
      "source": [
        "tokenizer = Tokenizer(num_words=len(list(unique_words)),oov_token='#')\n",
        "tokenizer.fit_on_texts(list(X_train))\n",
        "\n",
        "X_train = tokenizer.texts_to_sequences(list(X_train))\n",
        "X_val = tokenizer.texts_to_sequences(list(X_val))\n",
        "X_test = tokenizer.texts_to_sequences(list(X_test))\n",
        "\n",
        "X_train = sequence.pad_sequences(X_train, maxlen=MAX_LENGTH)\n",
        "X_val = sequence.pad_sequences(X_val, maxlen=MAX_LENGTH)\n",
        "X_test = sequence.pad_sequences(X_test, maxlen=MAX_LENGTH)\n",
        "\n",
        "print(X_train.shape,X_val.shape,X_test.shape)\n",
        "print(y_train.shape, y_val.shape, y_test.shape)"
      ],
      "execution_count": 0,
      "outputs": [
        {
          "output_type": "stream",
          "text": [
            "(119853, 48) (39951, 48) (39951, 48)\n",
            "(119853, 5) (39951, 5) (39951, 5)\n"
          ],
          "name": "stdout"
        }
      ]
    },
    {
      "cell_type": "code",
      "metadata": {
        "id": "pDc2yFQyh63X",
        "colab_type": "code",
        "colab": {}
      },
      "source": [
        "early_stopping = EarlyStopping(min_delta = 0.001, mode = 'max', monitor='val_accuracy', patience = 2)\n",
        "callback = [early_stopping]"
      ],
      "execution_count": 0,
      "outputs": []
    },
    {
      "cell_type": "markdown",
      "metadata": {
        "id": "JqTiQeRKcyEq",
        "colab_type": "text"
      },
      "source": [
        "## Train Model"
      ]
    },
    {
      "cell_type": "code",
      "metadata": {
        "id": "jHql8PTpIaxG",
        "colab_type": "code",
        "outputId": "6a4cf53d-2a5e-4891-d810-d02a3edceaf3",
        "colab": {
          "base_uri": "https://localhost:8080/",
          "height": 417
        }
      },
      "source": [
        "num_classes = 5\n",
        "model=Sequential()\n",
        "model.add(Embedding(len(list(unique_words)),300,input_length=MAX_LENGTH))\n",
        "model.add(LSTM(128,dropout=0.5, recurrent_dropout=0.5,return_sequences=True))\n",
        "model.add(LSTM(64,dropout=0.5, recurrent_dropout=0.5,return_sequences=False))\n",
        "model.add(Dense(100,activation='relu'))\n",
        "model.add(Dropout(0.5))\n",
        "model.add(Dense(num_classes,activation='softmax'))\n",
        "model.compile(loss='categorical_crossentropy',optimizer=Adam(lr=0.005),metrics=['accuracy'])\n",
        "model.summary()"
      ],
      "execution_count": 0,
      "outputs": [
        {
          "output_type": "stream",
          "text": [
            "WARNING:tensorflow:Layer lstm_4 will not use cuDNN kernel since it doesn't meet the cuDNN kernel criteria. It will use generic GPU kernel as fallback when running on GPU\n",
            "WARNING:tensorflow:Layer lstm_5 will not use cuDNN kernel since it doesn't meet the cuDNN kernel criteria. It will use generic GPU kernel as fallback when running on GPU\n",
            "Model: \"sequential_2\"\n",
            "_________________________________________________________________\n",
            "Layer (type)                 Output Shape              Param #   \n",
            "=================================================================\n",
            "embedding_2 (Embedding)      (None, 48, 300)           5361900   \n",
            "_________________________________________________________________\n",
            "lstm_4 (LSTM)                (None, 48, 128)           219648    \n",
            "_________________________________________________________________\n",
            "dropout_4 (Dropout)          (None, 48, 128)           0         \n",
            "_________________________________________________________________\n",
            "lstm_5 (LSTM)                (None, 64)                49408     \n",
            "_________________________________________________________________\n",
            "dropout_5 (Dropout)          (None, 64)                0         \n",
            "_________________________________________________________________\n",
            "dense_3 (Dense)              (None, 5)                 325       \n",
            "=================================================================\n",
            "Total params: 5,631,281\n",
            "Trainable params: 5,631,281\n",
            "Non-trainable params: 0\n",
            "_________________________________________________________________\n"
          ],
          "name": "stdout"
        }
      ]
    },
    {
      "cell_type": "code",
      "metadata": {
        "id": "oBKctYx-Ia9_",
        "colab_type": "code",
        "outputId": "87284467-3640-443c-8352-8ea82131e6a1",
        "colab": {
          "base_uri": "https://localhost:8080/",
          "height": 235
        }
      },
      "source": [
        "history=model.fit(X_train, y_train, validation_data=(X_val, y_val),epochs=6, batch_size=256, verbose=1, callbacks=callback)"
      ],
      "execution_count": 0,
      "outputs": [
        {
          "output_type": "stream",
          "text": [
            "Epoch 1/6\n",
            "469/469 [==============================] - 191s 406ms/step - loss: 1.1465 - accuracy: 0.5493 - val_loss: 0.9503 - val_accuracy: 0.6137\n",
            "Epoch 2/6\n",
            "469/469 [==============================] - 186s 398ms/step - loss: 0.8881 - accuracy: 0.6433 - val_loss: 0.8590 - val_accuracy: 0.6488\n",
            "Epoch 3/6\n",
            "469/469 [==============================] - 184s 393ms/step - loss: 0.8027 - accuracy: 0.6768 - val_loss: 0.8524 - val_accuracy: 0.6541\n",
            "Epoch 4/6\n",
            "469/469 [==============================] - 183s 390ms/step - loss: 0.7583 - accuracy: 0.6926 - val_loss: 0.8382 - val_accuracy: 0.6564\n",
            "Epoch 5/6\n",
            "469/469 [==============================] - 182s 388ms/step - loss: 0.7242 - accuracy: 0.7074 - val_loss: 0.8484 - val_accuracy: 0.6588\n",
            "Epoch 6/6\n",
            "469/469 [==============================] - 182s 387ms/step - loss: 0.6999 - accuracy: 0.7160 - val_loss: 0.8671 - val_accuracy: 0.6567\n"
          ],
          "name": "stdout"
        }
      ]
    },
    {
      "cell_type": "markdown",
      "metadata": {
        "id": "vQY76L5zc3Zo",
        "colab_type": "text"
      },
      "source": [
        "## Model Performance"
      ]
    },
    {
      "cell_type": "code",
      "metadata": {
        "id": "uZS0IvY6q8W8",
        "colab_type": "code",
        "outputId": "4b16c89f-abf1-472b-8595-36522558d15f",
        "colab": {
          "base_uri": "https://localhost:8080/",
          "height": 297
        }
      },
      "source": [
        "import matplotlib.pyplot as plt\n",
        "\n",
        "# Create count of the number of epochs\n",
        "epoch_count = range(1, len(history.history['loss']) + 1)\n",
        "\n",
        "# Visualize learning curve. Here learning curve is not ideal. It should be much smoother as it decreases.\n",
        "#As mentioned before, altering different hyper parameters especially learning rate can have a positive impact\n",
        "#on accuracy and learning curve.\n",
        "plt.plot(epoch_count, history.history['loss'], 'r--')\n",
        "plt.plot(epoch_count, history.history['val_loss'], 'b-')\n",
        "plt.legend(['Training Loss', 'Validation Loss'])\n",
        "plt.xlabel('Epoch')\n",
        "plt.ylabel('Loss')\n",
        "plt.show()\n",
        "\n",
        "scores = model.evaluate(X_test, y_test, verbose=0)\n",
        "print(\"Accuracy: %.2f%%\" % (scores[1]*100))"
      ],
      "execution_count": 0,
      "outputs": [
        {
          "output_type": "display_data",
          "data": {
            "image/png": "[encoded data removed]",
            "text/plain": [
              "<Figure size 432x288 with 1 Axes>"
            ]
          },
          "metadata": {
            "tags": [],
            "needs_background": "light"
          }
        },
        {
          "output_type": "stream",
          "text": [
            "Accuracy: 65.92%\n"
          ],
          "name": "stdout"
        }
      ]
    },
    {
      "cell_type": "code",
      "metadata": {
        "id": "x0jTKaDjZlqd",
        "colab_type": "code",
        "outputId": "8ca4ab55-f9cb-47db-9724-80ee50762ff6",
        "colab": {
          "base_uri": "https://localhost:8080/",
          "height": 35
        }
      },
      "source": [
        "from tensorflow.keras.models import model_from_json\n",
        "# serialize model to JSON\n",
        "model_json = model.to_json()\n",
        "with open(\"../data/model.json\", \"w\") as json_file:\n",
        "    json_file.write(model_json)\n",
        "# serialize weights to HDF5\n",
        "model.save_weights(\"../data/model.h5\")\n",
        "print(\"Saved model to disk\")"
      ],
      "execution_count": 0,
      "outputs": [
        {
          "output_type": "stream",
          "text": [
            "Saved model to disk\n"
          ],
          "name": "stdout"
        }
      ]
    },
    {
      "cell_type": "code",
      "metadata": {
        "id": "d7tLjAWm2GOE",
        "colab_type": "code",
        "colab": {}
      },
      "source": [
        "import pickle\n",
        "with open('tokenizer.pickle', 'wb') as handle:\n",
        "    pickle.dump(tokenizer, handle, protocol=pickle.HIGHEST_PROTOCOL)"
      ],
      "execution_count": 0,
      "outputs": []
    },
    {
      "cell_type": "code",
      "metadata": {
        "id": "ZJxNduwq9itN",
        "colab_type": "code",
        "outputId": "6408346f-5022-47a5-a5fc-bc1e8b9aa582",
        "colab": {
          "base_uri": "https://localhost:8080/",
          "height": 35
        }
      },
      "source": [
        "print(\"End of training\")"
      ],
      "execution_count": 0,
      "outputs": [
        {
          "output_type": "stream",
          "text": [
            "End of training\n"
          ],
          "name": "stdout"
        }
      ]
    },
    {
      "cell_type": "markdown",
      "metadata": {
        "id": "oTm9wB-3cEvq",
        "colab_type": "text"
      },
      "source": [
        "## Predictions\n",
        "To run predictions on user input, visit the below notebook:\n",
        "\n",
        "https://colab.research.google.com/drive/1iZwb5IfE-JBoFXtiVVpUi89tbT4hbUP2"
      ]
    },
    {
      "cell_type": "markdown",
      "metadata": {
        "id": "fn0LiieM56wQ",
        "colab_type": "text"
      },
      "source": [
        "## Other Models"
      ]
    },
    {
      "cell_type": "code",
      "metadata": {
        "id": "-mw18W4dcRGw",
        "colab_type": "code",
        "outputId": "09faeb3d-a55b-48d7-d4f1-991dc3db6fa1",
        "colab": {
          "base_uri": "https://localhost:8080/",
          "height": 563
        }
      },
      "source": [
        "## Model 2 Bidirectional LSTM\n",
        "num_classes = 5\n",
        "model_1=Sequential()\n",
        "model_1.add(Embedding(len(list(unique_words)),64,input_length=MAX_LENGTH))\n",
        "model_1.add(Bidirectional(LSTM(64,dropout=0.3, recurrent_dropout=0.3,return_sequences=True)))\n",
        "model_1.add(Dropout(0.3))\n",
        "model_1.add(Bidirectional(LSTM(64,dropout=0.5, recurrent_dropout=0.3,return_sequences=False)))\n",
        "model_1.add(Dropout(0.3))\n",
        "model_1.add(Dense(32,activation='relu'))\n",
        "model_1.add(Dropout(0.3))\n",
        "model_1.add(Dense(num_classes,activation='softmax'))\n",
        "model_1.compile(loss='categorical_crossentropy',optimizer=Adam(lr=0.005),metrics=['accuracy'])\n",
        "model_1.summary()"
      ],
      "execution_count": 0,
      "outputs": [
        {
          "output_type": "stream",
          "text": [
            "WARNING:tensorflow:Layer lstm_10 will not use cuDNN kernel since it doesn't meet the cuDNN kernel criteria. It will use generic GPU kernel as fallback when running on GPU\n",
            "WARNING:tensorflow:Layer lstm_10 will not use cuDNN kernel since it doesn't meet the cuDNN kernel criteria. It will use generic GPU kernel as fallback when running on GPU\n",
            "WARNING:tensorflow:Layer lstm_10 will not use cuDNN kernel since it doesn't meet the cuDNN kernel criteria. It will use generic GPU kernel as fallback when running on GPU\n",
            "WARNING:tensorflow:Layer lstm_11 will not use cuDNN kernel since it doesn't meet the cuDNN kernel criteria. It will use generic GPU kernel as fallback when running on GPU\n",
            "WARNING:tensorflow:Layer lstm_11 will not use cuDNN kernel since it doesn't meet the cuDNN kernel criteria. It will use generic GPU kernel as fallback when running on GPU\n",
            "WARNING:tensorflow:Layer lstm_11 will not use cuDNN kernel since it doesn't meet the cuDNN kernel criteria. It will use generic GPU kernel as fallback when running on GPU\n",
            "Model: \"sequential_5\"\n",
            "_________________________________________________________________\n",
            "Layer (type)                 Output Shape              Param #   \n",
            "=================================================================\n",
            "embedding_5 (Embedding)      (None, 48, 64)            1143872   \n",
            "_________________________________________________________________\n",
            "bidirectional_4 (Bidirection (None, 48, 128)           66048     \n",
            "_________________________________________________________________\n",
            "dropout_12 (Dropout)         (None, 48, 128)           0         \n",
            "_________________________________________________________________\n",
            "bidirectional_5 (Bidirection (None, 128)               98816     \n",
            "_________________________________________________________________\n",
            "dropout_13 (Dropout)         (None, 128)               0         \n",
            "_________________________________________________________________\n",
            "dense_8 (Dense)              (None, 32)                4128      \n",
            "_________________________________________________________________\n",
            "dropout_14 (Dropout)         (None, 32)                0         \n",
            "_________________________________________________________________\n",
            "dense_9 (Dense)              (None, 5)                 165       \n",
            "=================================================================\n",
            "Total params: 1,313,029\n",
            "Trainable params: 1,313,029\n",
            "Non-trainable params: 0\n",
            "_________________________________________________________________\n"
          ],
          "name": "stdout"
        }
      ]
    },
    {
      "cell_type": "code",
      "metadata": {
        "id": "-wj7w6pq5vMn",
        "colab_type": "code",
        "outputId": "1756ee91-8e4c-4b94-eebe-18fcdccf071d",
        "colab": {
          "base_uri": "https://localhost:8080/",
          "height": 163
        }
      },
      "source": [
        "history=model_1.fit(X_train, y_train, validation_data=(X_val, y_val),epochs=6, batch_size=256, verbose=1, callbacks=callback)"
      ],
      "execution_count": 0,
      "outputs": [
        {
          "output_type": "stream",
          "text": [
            "Epoch 1/6\n",
            "469/469 [==============================] - 331s 706ms/step - loss: 1.0283 - accuracy: 0.5871 - val_loss: 0.8709 - val_accuracy: 0.6385\n",
            "Epoch 2/6\n",
            "469/469 [==============================] - 328s 698ms/step - loss: 0.8218 - accuracy: 0.6621 - val_loss: 0.8372 - val_accuracy: 0.6517\n",
            "Epoch 3/6\n",
            "469/469 [==============================] - 313s 667ms/step - loss: 0.7467 - accuracy: 0.6898 - val_loss: 0.8609 - val_accuracy: 0.6524\n",
            "Epoch 4/6\n",
            "469/469 [==============================] - 309s 660ms/step - loss: 0.6943 - accuracy: 0.7073 - val_loss: 0.8716 - val_accuracy: 0.6476\n"
          ],
          "name": "stdout"
        }
      ]
    },
    {
      "cell_type": "code",
      "metadata": {
        "id": "ZmWUdZYU8CGy",
        "colab_type": "code",
        "outputId": "d1d21106-e174-4b88-d042-3a798bba0677",
        "colab": {
          "base_uri": "https://localhost:8080/",
          "height": 297
        }
      },
      "source": [
        "import matplotlib.pyplot as plt\n",
        "\n",
        "# Create count of the number of epochs\n",
        "epoch_count = range(1, len(history.history['loss']) + 1)\n",
        "\n",
        "# Visualize learning curve. Here learning curve is not ideal. It should be much smoother as it decreases.\n",
        "#As mentioned before, altering different hyper parameters especially learning rate can have a positive impact\n",
        "#on accuracy and learning curve.\n",
        "plt.plot(epoch_count, history.history['loss'], 'r--')\n",
        "plt.plot(epoch_count, history.history['val_loss'], 'b-')\n",
        "plt.legend(['Training Loss', 'Validation Loss'])\n",
        "plt.xlabel('Epoch')\n",
        "plt.ylabel('Loss')\n",
        "plt.show()\n",
        "scores = model_1.evaluate(X_test, y_test, verbose=0)\n",
        "print(\"Accuracy: %.2f%%\" % (scores[1]*100))"
      ],
      "execution_count": 0,
      "outputs": [
        {
          "output_type": "display_data",
          "data": {
            "image/png": "[encoded data removed]",
            "text/plain": [
              "<Figure size 432x288 with 1 Axes>"
            ]
          },
          "metadata": {
            "tags": [],
            "needs_background": "light"
          }
        },
        {
          "output_type": "stream",
          "text": [
            "Accuracy: 65.28%\n"
          ],
          "name": "stdout"
        }
      ]
    },
    {
      "cell_type": "code",
      "metadata": {
        "id": "Iuv-8AaDCFl8",
        "colab_type": "code",
        "colab": {}
      },
      "source": [
        ""
      ],
      "execution_count": 0,
      "outputs": []
    }
  ]
}